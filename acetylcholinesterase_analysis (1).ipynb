{
 "cells": [
  {
   "cell_type": "code",
   "execution_count": 48,
   "id": "3580bbbc",
   "metadata": {},
   "outputs": [
    {
     "name": "stdout",
     "output_type": "stream",
     "text": [
      "GC_Frame: a:5 t:0 g:8 c:5 \n",
      "Sequence: auggccauug ... gggccgcuga, 24 nt, 54.17 %GC\n",
      "\n",
      "\n",
      "1/1\n",
      "  G  H  C  N  G  P  L\n",
      " W  P  L  *  W  A  A\n",
      "M  A  I  V  M  G  R  *\n",
      "auggccauuguaaugggccgcuga   54 %\n",
      "uaccgguaacauuacccggcgacu\n",
      "A  M  T  I  P  R  Q \n",
      " H  G  N  Y  H  A  A  S\n",
      "  P  W  Q  L  P  G  S\n",
      "\n",
      "\n",
      "Number of sequences: 1\n",
      "Average sequence length: 614.00\n",
      "Length of the longest sequence: 614\n"
     ]
    }
   ],
   "source": [
    "from Bio import SeqIO\n",
    "from Bio.SeqUtils import seq3\n",
    "from Bio.SeqUtils import GC\n",
    "from Bio.SeqUtils import six_frame_translations\n",
    "\n",
    "print(six_frame_translations(\"AUGGCCAUUGUAAUGGGCCGCUGA\"))\n",
    "\n",
    "# Load FASTA file\n",
    "fasta_file = \"/Users/ashwinnallamothu/Desktop/ACHE.fasta\"\n",
    "\n",
    "# Read sequences \n",
    "sequences = [record.seq for record in SeqIO.parse(fasta_file, \"fasta\")]\n",
    "\n",
    "# Calculate average length\n",
    "avg_length = sum(len(seq) for seq in sequences) / len(sequences)\n",
    "\n",
    "# Find the longest sequence\n",
    "longest_sequence = max(sequences, key=len)\n",
    "\n",
    "# Print results\n",
    "print(f\"Number of sequences: {len(sequences)}\")\n",
    "print(f\"Average sequence length: {avg_length:.2f}\")\n",
    "print(f\"Length of the longest sequence: {len(longest_sequence)}\")\n",
    "\n",
    "\n",
    "\n"
   ]
  },
  {
   "cell_type": "code",
   "execution_count": null,
   "id": "8ec82ba3",
   "metadata": {},
   "outputs": [],
   "source": []
  }
 ],
 "metadata": {
  "kernelspec": {
   "display_name": "Python 3 (ipykernel)",
   "language": "python",
   "name": "python3"
  },
  "language_info": {
   "codemirror_mode": {
    "name": "ipython",
    "version": 3
   },
   "file_extension": ".py",
   "mimetype": "text/x-python",
   "name": "python",
   "nbconvert_exporter": "python",
   "pygments_lexer": "ipython3",
   "version": "3.11.5"
  }
 },
 "nbformat": 4,
 "nbformat_minor": 5
}
